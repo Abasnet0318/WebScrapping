{
 "cells": [
  {
   "cell_type": "code",
   "execution_count": 1,
   "id": "96218614-334c-4843-99bd-5fdd2f259e51",
   "metadata": {},
   "outputs": [],
   "source": [
    "import requests\n",
    "from bs4 import BeautifulSoup\n",
    "import pandas as pd\n",
    "import yfinance as yf\n",
    "import plotly.graph_objects as go\n",
    "from plotly.subplots import make_subplots\n",
    "import plotly.io as pio\n",
    "pio.renderers.default ='iframe'"
   ]
  },
  {
   "cell_type": "code",
   "execution_count": 2,
   "id": "66476b44-af4c-4ad1-a5b4-4b3829834c68",
   "metadata": {},
   "outputs": [],
   "source": [
    "import warnings\n",
    "warnings.simplefilter('ignore',category=FutureWarning)"
   ]
  },
  {
   "cell_type": "code",
   "execution_count": 3,
   "id": "bd73eede-9988-43ad-abe1-8b69aa09e6c4",
   "metadata": {},
   "outputs": [],
   "source": [
    "pd.set_option(\"display.max_columns\", None)  # Show all columns\n",
    "pd.set_option(\"display.width\", None)        # No limit on line width\n",
    "pd.set_option(\"display.max_colwidth\", None) # Show full content in each column"
   ]
  },
  {
   "cell_type": "code",
   "execution_count": 4,
   "id": "9fba17c6-a4a7-4a01-9d40-133ea9dbb96b",
   "metadata": {},
   "outputs": [],
   "source": [
    "def make_graph(stock_data, revenue_data, stock):\n",
    "    fig = make_subplots(rows=2, cols=1, shared_xaxes=True, subplot_titles=(\"Historical Share Price\", \"Historical Revenue\"), vertical_spacing = .3)\n",
    "    stock_data_specific = stock_data[stock_data.Date <= '2021-06-14']\n",
    "    revenue_data_specific = revenue_data[revenue_data.Date <= '2021-04-30']\n",
    "    fig.add_trace(go.Scatter(x=pd.to_datetime(stock_data_specific.Date), y=stock_data_specific.Close.astype(\"float\"), name=\"Share Price\"), row=1, col=1)\n",
    "\n",
    "    revenue_data_specific[\"Revenue\"] = revenue_data_specific[\"Revenue\"].replace(r'[\\$,]', '', regex=True).astype(\n",
    "        \"float\")\n",
    "    fig.add_trace(\n",
    "        go.Scatter(x=pd.to_datetime(revenue_data_specific.Date), y=revenue_data_specific.Revenue, name=\"Revenue\"),\n",
    "        row=2, col=1)\n",
    "    fig.update_xaxes(title_text=\"Date\", row=1, col=1)\n",
    "    fig.update_xaxes(title_text=\"Date\", row=2, col=1)\n",
    "    fig.update_yaxes(title_text=\"Price ($US)\", row=1, col=1)\n",
    "    fig.update_yaxes(title_text=\"Revenue ($US Millions)\", row=2, col=1)\n",
    "    fig.update_layout(showlegend=False,\n",
    "    height=900,\n",
    "    title=stock,\n",
    "    xaxis_rangeslider_visible=True)\n",
    "    fig.show()\n",
    "    from IPython.display import display, HTML\n",
    "    fig_html = fig.to_html()\n",
    "    display(HTML(fig_html))"
   ]
  },
  {
   "cell_type": "code",
   "execution_count": 5,
   "id": "514b2c65-c0e7-417c-89d0-ae073258892a",
   "metadata": {},
   "outputs": [
    {
     "name": "stdout",
     "output_type": "stream",
     "text": [
      "                       Date      Open      High       Low     Close  \\\n",
      "0 2010-06-29 00:00:00-04:00  1.266667  1.666667  1.169333  1.592667   \n",
      "1 2010-06-30 00:00:00-04:00  1.719333  2.028000  1.553333  1.588667   \n",
      "2 2010-07-01 00:00:00-04:00  1.666667  1.728000  1.351333  1.464000   \n",
      "3 2010-07-02 00:00:00-04:00  1.533333  1.540000  1.247333  1.280000   \n",
      "4 2010-07-06 00:00:00-04:00  1.333333  1.333333  1.055333  1.074000   \n",
      "\n",
      "      Volume  Dividends  Stock Splits  \n",
      "0  281494500        0.0           0.0  \n",
      "1  257806500        0.0           0.0  \n",
      "2  123282000        0.0           0.0  \n",
      "3   77097000        0.0           0.0  \n",
      "4  103003500        0.0           0.0  \n"
     ]
    }
   ],
   "source": [
    "tesla = yf.Ticker('TSLA')\n",
    "tesla_data = tesla.history(period='max')\n",
    "tesla_data = tesla_data.reset_index()\n",
    "print(tesla_data.head())"
   ]
  },
  {
   "cell_type": "code",
   "execution_count": 6,
   "id": "47faafbf-9620-4022-9dd8-fc2ade7d12f9",
   "metadata": {},
   "outputs": [],
   "source": [
    "url = \" https://cf-courses-data.s3.us.cloud-object-storage.appdomain.cloud/IBMDeveloperSkillsNetwork-PY0220EN-SkillsNetwork/labs/project/revenue.htm\"\n",
    "\n",
    "html_data = requests.get(url).text"
   ]
  },
  {
   "cell_type": "code",
   "execution_count": 7,
   "id": "beec5371-3efb-4f08-a1d5-883de3b7256f",
   "metadata": {},
   "outputs": [],
   "source": [
    "soup = BeautifulSoup(html_data,\"html.parser\")"
   ]
  },
  {
   "cell_type": "code",
   "execution_count": 8,
   "id": "93ba3fb8-d173-46ab-89cf-8362148787c4",
   "metadata": {},
   "outputs": [],
   "source": [
    "tesla_revenue = pd.DataFrame(columns=[\"Date\",\"Revenue\"])\n",
    "\n",
    "for row in soup.find('tbody').find_all(\"tr\"):\n",
    "    col = row.find_all(\"td\")\n",
    "    date = col[0].text\n",
    "    revenue = col[1].text\n",
    "\n",
    "    tesla_revenue = pd.concat([tesla_revenue, pd.DataFrame(\n",
    "        {\"Date\": [date],\n",
    "        \"Revenue\": [revenue]})], ignore_index=True)\n"
   ]
  },
  {
   "cell_type": "code",
   "execution_count": 9,
   "id": "7197c005-f3b7-446e-9228-5a219ee042bd",
   "metadata": {},
   "outputs": [],
   "source": [
    "tesla_revenue[\"Revenue\"] = tesla_revenue['Revenue'].str.replace(r'[\\$,]', '', regex=True).astype(\"float\")\n",
    "\n",
    "\n",
    "tesla_revenue.dropna(inplace=True)\n",
    "\n",
    "tesla_revenue = tesla_revenue[tesla_revenue['Revenue'] != \"\"]"
   ]
  },
  {
   "cell_type": "code",
   "execution_count": 10,
   "id": "3f5ec237-2dcf-4063-9710-d4ebf5c473a4",
   "metadata": {},
   "outputs": [
    {
     "name": "stdout",
     "output_type": "stream",
     "text": [
      "    Date  Revenue\n",
      "8   2013   2013.0\n",
      "9   2012    413.0\n",
      "10  2011    204.0\n",
      "11  2010    117.0\n",
      "12  2009    112.0\n"
     ]
    }
   ],
   "source": [
    "print(tesla_revenue.tail())"
   ]
  },
  {
   "cell_type": "code",
   "execution_count": 11,
   "id": "6032224b-de5b-4eda-bcd1-753245f5d062",
   "metadata": {},
   "outputs": [
    {
     "name": "stdout",
     "output_type": "stream",
     "text": [
      "                       Date      Open      High       Low     Close    Volume  \\\n",
      "0 2002-02-13 00:00:00-05:00  1.620128  1.693350  1.603296  1.691666  76216000   \n",
      "1 2002-02-14 00:00:00-05:00  1.712708  1.716074  1.670627  1.683251  11021600   \n",
      "2 2002-02-15 00:00:00-05:00  1.683250  1.687458  1.658001  1.674834   8389600   \n",
      "3 2002-02-19 00:00:00-05:00  1.666418  1.666418  1.578047  1.607504   7410400   \n",
      "4 2002-02-20 00:00:00-05:00  1.615920  1.662210  1.603296  1.662210   6892800   \n",
      "\n",
      "   Dividends  Stock Splits  \n",
      "0        0.0           0.0  \n",
      "1        0.0           0.0  \n",
      "2        0.0           0.0  \n",
      "3        0.0           0.0  \n",
      "4        0.0           0.0  \n"
     ]
    }
   ],
   "source": [
    "# Extracting GameStop(GME) stock data\n",
    "gme = yf.Ticker('GME')\n",
    "gme_data = gme.history(period='max')\n",
    "gme_data = gme_data.reset_index()\n",
    "print(gme_data.head())"
   ]
  },
  {
   "cell_type": "code",
   "execution_count": 13,
   "id": "b00880bc-66b5-4379-85fe-f0d38e0bd90e",
   "metadata": {},
   "outputs": [],
   "source": [
    "#Using request library to download the webpage\n",
    "url2 = \" https://cf-courses-data.s3.us.cloud-object-storage.appdomain.cloud/IBMDeveloperSkillsNetwork-PY0220EN-SkillsNetwork/labs/project/stock.html\"\n",
    "html_data2 = requests.get(url2).text"
   ]
  },
  {
   "cell_type": "code",
   "execution_count": 14,
   "id": "901c3a8d-c8f0-4603-9274-07241a6b85a5",
   "metadata": {},
   "outputs": [],
   "source": [
    "#Using BeautifulSoup to parse the html data\n",
    "soup = BeautifulSoup(html_data2,\"html5lib\")"
   ]
  },
  {
   "cell_type": "code",
   "execution_count": 15,
   "id": "dc554ed5-1e84-4d84-82e6-fcc2adb10c11",
   "metadata": {},
   "outputs": [],
   "source": [
    "gme_revenue = pd.DataFrame(columns =[\"Date\",\"Revenue\"])\n",
    "\n",
    "for row in soup.find(\"tbody\").find_all(\"tr\"):\n",
    "    col = row.find_all(\"td\")\n",
    "    date = col[0].text\n",
    "    revenue = col[1].text\n",
    "\n",
    "\n",
    "    gme_revenue = pd.concat([gme_revenue, pd.DataFrame({\"Date\" : [date], \"Revenue\": [revenue]})], ignore_index=True)"
   ]
  },
  {
   "cell_type": "code",
   "execution_count": 16,
   "id": "9341791c-2a42-4191-8e35-4b5425fcedf9",
   "metadata": {},
   "outputs": [],
   "source": [
    "\n",
    "gme_revenue[\"Revenue\"] = gme_revenue['Revenue'].str.replace(r'[\\$,]', '', regex=True).astype(\"float\")"
   ]
  },
  {
   "cell_type": "code",
   "execution_count": 17,
   "id": "1fec738b-bf68-4528-afe7-061cfd5590a5",
   "metadata": {},
   "outputs": [],
   "source": [
    "gme_revenue.dropna(inplace=True)"
   ]
  },
  {
   "cell_type": "code",
   "execution_count": 18,
   "id": "afe93f5c-8b53-4249-ac7c-4fa0a06b8daf",
   "metadata": {},
   "outputs": [
    {
     "name": "stdout",
     "output_type": "stream",
     "text": [
      "    Date  Revenue\n",
      "11  2009   8806.0\n",
      "12  2008   7094.0\n",
      "13  2007   5319.0\n",
      "14  2006   3092.0\n",
      "15  2005   1843.0\n"
     ]
    }
   ],
   "source": [
    "print(gme_revenue.tail())\n"
   ]
  },
  {
   "cell_type": "code",
   "execution_count": null,
   "id": "1d1115cf-2f46-43f6-a1b5-007e2e615f26",
   "metadata": {},
   "outputs": [],
   "source": [
    "make_graph(tesla_data, tesla_revenue, 'Tesla')"
   ]
  }
 ],
 "metadata": {
  "kernelspec": {
   "display_name": "Python 3 (ipykernel)",
   "language": "python",
   "name": "python3"
  },
  "language_info": {
   "codemirror_mode": {
    "name": "ipython",
    "version": 3
   },
   "file_extension": ".py",
   "mimetype": "text/x-python",
   "name": "python",
   "nbconvert_exporter": "python",
   "pygments_lexer": "ipython3",
   "version": "3.13.3"
  }
 },
 "nbformat": 4,
 "nbformat_minor": 5
}
